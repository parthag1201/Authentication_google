{
  "nbformat": 4,
  "nbformat_minor": 0,
  "metadata": {
    "colab": {
      "provenance": [],
      "authorship_tag": "ABX9TyNL9NpRWcKrkVkvuU25mwa7",
      "include_colab_link": true
    },
    "kernelspec": {
      "name": "python3",
      "display_name": "Python 3"
    },
    "language_info": {
      "name": "python"
    }
  },
  "cells": [
    {
      "cell_type": "markdown",
      "metadata": {
        "id": "view-in-github",
        "colab_type": "text"
      },
      "source": [
        "<a href=\"https://colab.research.google.com/github/parthag1201/Authentication_google/blob/main/MAF_Customer_Support_Automation.ipynb\" target=\"_parent\"><img src=\"https://colab.research.google.com/assets/colab-badge.svg\" alt=\"Open In Colab\"/></a>"
      ]
    },
    {
      "cell_type": "markdown",
      "source": [],
      "metadata": {
        "id": "z62uqihaFxi0"
      }
    },
    {
      "cell_type": "markdown",
      "source": [
        "# Env and Agent setup"
      ],
      "metadata": {
        "id": "ebhedB3oF0N1"
      }
    },
    {
      "cell_type": "code",
      "execution_count": null,
      "metadata": {
        "collapsed": true,
        "id": "ZQLaN51YDUhe"
      },
      "outputs": [],
      "source": [
        "### General environment setup\n",
        "\n",
        "# Install packages for crew and langchain\n",
        "!pip install crewai==0.28.8 crewai_tools==0.1.6 langchain_community==0.0.29 langchain_google_genai\n",
        "\n",
        "import google.generativeai as genai\n",
        "from langchain_google_genai import ChatGoogleGenerativeAI, GoogleGenerativeAIEmbeddings\n",
        "\n",
        "# Warning Control\n",
        "import warnings\n",
        "warnings.filterwarnings('ignore')\n",
        "\n",
        "# Import crewAI library\n",
        "from crewai import Agent, Task, Crew\n",
        "\n",
        "import os\n",
        "from google.colab import userdata # For API Secret\n",
        "# openai_api_key = get_openai_api_key()\n",
        "# os.environ[\"OPENAI_MODEL_NAME\"] = 'gpt-3.5-turbo'\n",
        "\n",
        "os.environ[\"GEMINI_MODEL_NAME\"] = 'gemini-2.5-flash'"
      ]
    },
    {
      "cell_type": "code",
      "source": [
        "from langchain_community.llms import HuggingFaceHub # Import necessary class if using Hugging Face models\n",
        "from langchain_google_genai import ChatGoogleGenerativeAI # Import the correct class for Gemini\n",
        "\n",
        "# Initialize the Gemini LLM\n",
        "os.environ['GOOGLE_API_KEY']=userdata.get('Gemini_ai_api')\n",
        "gemini_llm = ChatGoogleGenerativeAI(model=\"gemini-2.5-flash\")"
      ],
      "metadata": {
        "id": "U-bBQasIEH7m"
      },
      "execution_count": null,
      "outputs": []
    },
    {
      "cell_type": "code",
      "source": [
        "# Agents\n",
        "\n",
        "support_agent = Agent(\n",
        "    role=\"Senior Support Representative\",\n",
        "\tgoal=\"Be the most friendly and helpful \"\n",
        "        \"support representative in your team\",\n",
        "\tbackstory=(\n",
        "\t\t\"You work at crewAI (https://crewai.com) and \"\n",
        "        \" are now working on providing \"\n",
        "\t\t\"support to {customer}, a super important customer \"\n",
        "        \" for your company.\"\n",
        "\t\t\"You need to make sure that you provide the best support!\"\n",
        "\t\t\"Make sure to provide full complete answers, \"\n",
        "        \" and make no assumptions.\"\n",
        "\t),\n",
        "\tallow_delegation=False,\n",
        "\tverbose=True,\n",
        "  llm = gemini_llm\n",
        ")\n",
        "\n",
        "support_quality_assurance_agent = Agent(\n",
        "\trole=\"Support Quality Assurance Specialist\",\n",
        "\tgoal=\"Get recognition for providing the \"\n",
        "    \"best support quality assurance in your team\",\n",
        "\tbackstory=(\n",
        "\t\t\"You work at crewAI (https://crewai.com) and \"\n",
        "        \"are now working with your team \"\n",
        "\t\t\"on a request from {customer} ensuring that \"\n",
        "        \"the support representative is \"\n",
        "\t\t\"providing the best support possible.\\n\"\n",
        "\t\t\"You need to make sure that the support representative \"\n",
        "        \"is providing full\"\n",
        "\t\t\"complete answers, and make no assumptions.\"\n",
        "\t),\n",
        "\tverbose=True,\n",
        "  llm = gemini_llm\n",
        ")"
      ],
      "metadata": {
        "id": "5qgeSK2wEVtW"
      },
      "execution_count": null,
      "outputs": []
    },
    {
      "cell_type": "markdown",
      "source": [
        "# Tools, Guardrials and Memory"
      ],
      "metadata": {
        "id": "tCdbC1rnFqcc"
      }
    },
    {
      "cell_type": "code",
      "source": [
        "# SerperDevTool - External service to scrape google\n",
        "# ScrapeWebsiteTool - Scraper for agent to access URL and extract contents of the webpage\n",
        "# WebsiteSearchTool - RAG over a website (Semantic search)\n",
        "from crewai_tools import SerperDevTool, \\\n",
        "                         ScrapeWebsiteTool, \\\n",
        "                         WebsiteSearchTool\n",
        "\n",
        "# Possible Custom Tools\n",
        "\"\"\"\n",
        "Load customer data\n",
        "Tap into previous conversations\n",
        "Load data from a CRM\n",
        "Checking existing bug reports\n",
        "Checking existing feature requests\n",
        "Checking ongoing tickets\n",
        "\"\"\""
      ],
      "metadata": {
        "colab": {
          "base_uri": "https://localhost:8080/",
          "height": 36
        },
        "id": "mLT6xQrTEZOL",
        "outputId": "b04bf6e6-f931-4926-d969-b3bb68f228e6"
      },
      "execution_count": null,
      "outputs": [
        {
          "output_type": "execute_result",
          "data": {
            "text/plain": [
              "' \\nLoad customer data\\nTap into previous conversations\\nLoad data from a CRM\\nChecking existing bug reports\\nChecking existing feature requests\\nChecking ongoing tickets\\n'"
            ],
            "application/vnd.google.colaboratory.intrinsic+json": {
              "type": "string"
            }
          },
          "metadata": {},
          "execution_count": 18
        }
      ]
    },
    {
      "cell_type": "code",
      "source": [
        "search_tool = SerperDevTool()\n",
        "scrape_tool = ScrapeWebsiteTool()"
      ],
      "metadata": {
        "id": "CwM_RpEGGIHn"
      },
      "execution_count": null,
      "outputs": []
    },
    {
      "cell_type": "code",
      "source": [
        "docs_scrape_tool = ScrapeWebsiteTool(\n",
        "    website_url=\"https://docs.crewai.com/how-to/Creating-a-Crew-and-kick-it-off/\"\n",
        ")\n",
        "\n",
        "# web_search_tool = SerperDevTool(\n",
        "#     website_url=\"https://docs.crewai.com/how-to/Creating-a-Crew-and-kick-it-off/\"\n",
        "# )"
      ],
      "metadata": {
        "id": "rAB2BlzVHFTs"
      },
      "execution_count": null,
      "outputs": []
    },
    {
      "cell_type": "code",
      "source": [
        "# print(docs_scrape_tool)"
      ],
      "metadata": {
        "collapsed": true,
        "id": "LGwkLergHHFR"
      },
      "execution_count": null,
      "outputs": []
    },
    {
      "cell_type": "code",
      "source": [
        "# Tasks\n",
        "\n",
        "inquiry_resolution = Task(\n",
        "    description=(\n",
        "        \"{customer} just reached out with a super important ask:\\n\"\n",
        "\t    \"{inquiry}\\n\\n\"\n",
        "        \"{person} from {customer} is the one that reached out. \"\n",
        "\t\t\"Make sure to use everything you know \"\n",
        "        \"to provide the best support possible.\"\n",
        "\t\t\"You must strive to provide a complete \"\n",
        "        \"and accurate response to the customer's inquiry.\"\n",
        "    ),\n",
        "    expected_output=(\n",
        "\t    \"A detailed, informative response to the \"\n",
        "        \"customer's inquiry that addresses \"\n",
        "        \"all aspects of their question.\\n\"\n",
        "        \"The response should include references \"\n",
        "        \"to everything you used to find the answer, \"\n",
        "        \"including external data or solutions. \"\n",
        "        \"Ensure the answer is complete, \"\n",
        "\t\t\"leaving no questions unanswered, and maintain a helpful and friendly \"\n",
        "\t\t\"tone throughout.\"\n",
        "    ),\n",
        "\t  tools=[docs_scrape_tool],\n",
        "    agent=support_agent,\n",
        ")\n",
        "\n",
        "quality_assurance_review = Task(\n",
        "    description=(\n",
        "        \"Review the response drafted by the Senior Support Representative for {customer}'s inquiry. \"\n",
        "        \"Ensure that the answer is comprehensive, accurate, and adheres to the \"\n",
        "\t\t\"high-quality standards expected for customer support.\\n\"\n",
        "        \"Verify that all parts of the customer's inquiry \"\n",
        "        \"have been addressed \"\n",
        "\t\t\"thoroughly, with a helpful and friendly tone.\\n\"\n",
        "        \"Check for references and sources used to \"\n",
        "        \" find the information, \"\n",
        "\t\t\"ensuring the response is well-supported and \"\n",
        "        \"leaves no questions unanswered.\"\n",
        "    ),\n",
        "    expected_output=(\n",
        "        \"A final, detailed, and informative response \"\n",
        "        \"ready to be sent to the customer.\\n\"\n",
        "        \"This response should fully address the \"\n",
        "        \"customer's inquiry, incorporating all \"\n",
        "\t\t\"relevant feedback and improvements.\\n\"\n",
        "\t\t\"Don't be too formal, we are a chill and cool company \"\n",
        "\t    \"but maintain a professional and friendly tone throughout.\"\n",
        "    ),\n",
        "    agent=support_quality_assurance_agent,\n",
        ")\n"
      ],
      "metadata": {
        "id": "8CFLAYn4HJhw"
      },
      "execution_count": null,
      "outputs": []
    },
    {
      "cell_type": "code",
      "source": [
        "crew = Crew(\n",
        "  agents=[support_agent, support_quality_assurance_agent],\n",
        "  tasks=[inquiry_resolution, quality_assurance_review],\n",
        "  verbose=2,\n",
        ")"
      ],
      "metadata": {
        "colab": {
          "base_uri": "https://localhost:8080/"
        },
        "id": "fJnKy5MShifV",
        "outputId": "a686b50f-8880-4452-80a6-fb4cd8a5289c"
      },
      "execution_count": null,
      "outputs": [
        {
          "output_type": "stream",
          "name": "stderr",
          "text": [
            "WARNING:opentelemetry.trace:Overriding of current TracerProvider is not allowed\n"
          ]
        }
      ]
    },
    {
      "cell_type": "code",
      "source": [
        "inputs = {\n",
        "    \"customer\": \"Amazon.com\",\n",
        "    \"person\": \"Jeff Bezos\",\n",
        "    \"inquiry\": \"I need help with setting up a Crew to help me automate Software developemnt in Amazon \"\n",
        "               \"and kicking it off, specifically \"\n",
        "               \"how can I add memory to my crew? \"\n",
        "               \"Can you provide guidance?\"\n",
        "}\n",
        "result = crew.kickoff(inputs=inputs)"
      ],
      "metadata": {
        "collapsed": true,
        "id": "3Is2WfVOiZnA"
      },
      "execution_count": null,
      "outputs": []
    },
    {
      "cell_type": "code",
      "source": [
        "from IPython.display import Markdown\n",
        "Markdown(result)"
      ],
      "metadata": {
        "colab": {
          "base_uri": "https://localhost:8080/",
          "height": 1000
        },
        "id": "DozWeZpXlyTk",
        "outputId": "a6148490-08ee-4a87-97bb-ffa23ab05931"
      },
      "execution_count": null,
      "outputs": [
        {
          "output_type": "execute_result",
          "data": {
            "text/plain": [
              "<IPython.core.display.Markdown object>"
            ],
            "text/markdown": "Hello Mr. Bezos,\n\nIt's an absolute pleasure to assist Amazon.com with your CrewAI implementation! We're thrilled to help you automate software development with our framework. I'm here to provide you with the most comprehensive guidance based on the available documentation for setting up and understanding your Crew, and addressing your specific question about memory.\n\nLet's break down how to set up a Crew and how it works, and then we'll discuss memory and how to kick off your amazing Crew!\n\n### Setting Up a CrewAI Crew for Software Development Automation\n\nCrewAI is a powerful, lean, and lightning-fast Python framework designed to help you create autonomous AI agent teams that work together to tackle complex tasks, much like departments within a company collaborate. For automating software development, you'd leverage these core components:\n\n1.  **Crew (The Orchestrator):** This is the top-level organization within CrewAI. Think of it as the project manager for your software development automation. The Crew manages your AI agent teams, oversees the overall workflows, ensures seamless collaboration among agents, and ultimately delivers the desired outcomes (e.g., code, documentation, test plans).\n\n2.  **AI Agents (The Specialized Team Members):** These are the individual AI workers in your software development team. Each agent has a specific role, expertise, and goals. For instance, you could have:\n    *   A **\"Software Architect\"** agent (role) responsible for high-level design.\n    *   A **\"Code Developer\"** agent (role) focused on writing code.\n    *   A **\"Quality Assurance Engineer\"** agent (role) for testing and debugging.\n    *   A **\"Documentation Specialist\"** agent (role) for creating project documentation.\n    Each agent can be equipped with specific tools (e.g., code interpreters, access to version control systems, bug trackers, documentation generators) to perform their tasks effectively and make autonomous decisions within their defined scope.\n\n3.  **Tasks (The Assignments):** These are the individual assignments given to your agents. Each task should have clear objectives and specify the tools an agent might need to complete it. For example:\n    *   A task for the \"Software Architect\" might be: \"Design the microservices architecture for the new e-commerce feature.\"\n    *   A task for the \"Code Developer\" might be: \"Implement the user authentication module following the architecture design.\"\n    *   A task for the \"Quality Assurance Engineer\" might be: \"Write and execute unit tests for the user authentication module.\"\n    Tasks feed into the larger process, contributing to the overall software development goal.\n\n4.  **Process (The Workflow Management System):** This defines how your agents collaborate and how tasks are assigned and managed. It ensures efficient execution and interaction between your agents. CrewAI supports defining sequential or parallel workflows, allowing agents to automatically handle task dependencies. For example, the \"Code Developer\" task might depend on the \"Software Architect\" task being completed.\n\n**How It All Works Together:**\nIn a software development automation scenario:\n*   The **Crew** organizes the entire operation.\n*   **AI Agents** work on their specialized **Tasks**.\n*   The **Process** ensures smooth collaboration and efficient flow of work, from design to development to testing.\n*   All **Tasks** get completed collaboratively to achieve the overarching software development goal, like delivering a new feature or fixing a bug.\n\n### Kicking Off Your Crew\n\nWhile the documentation I accessed provides a conceptual overview of how Crews work and how their components interact, we've gone ahead and pulled the exact programmatic command you'll need to get your Crew running! The \"kick-off\" is the moment when the Crew begins its operation, with agents working on their tasks according to the defined process to achieve the goal.\n\nThe command to initiate and run a CrewAI Crew, triggering its execution of tasks, is the `kickoff()` method. This method starts the entire process, allowing the agents to collaborate and complete their assigned tasks.\n\n**Official Documentation Reference:** This method is fundamental and is demonstrated across various foundational examples, including the \"Build Your First Crew Step-by-step tutorial\" and the general \"Getting Started\" guides.\n\n**Precise Code Example:**\n\n```python\nfrom crewai import Crew, Process\nfrom crewai import Agent, Task # Assuming Agent and Task are defined elsewhere\n\n# --- Define your Agents ---\n# Example Agent (replace with your actual agent definitions)\nresearcher = Agent(\n    role='Senior Research Analyst',\n    goal='Uncover groundbreaking insights from latest AI advancements',\n    backstory='A seasoned analyst with a knack for identifying emerging trends.',\n    verbose=True,\n    allow_delegation=False\n)\n\n# --- Define your Tasks ---\n# Example Task (replace with your actual task definitions)\nresearch_task = Task(\n    description='Analyze the latest advancements in large language models and identify potential applications in e-commerce.',\n    expected_output='A concise report detailing key LLM advancements and 3-5 concrete e-commerce application ideas.',\n    agent=researcher\n)\n\n# --- Instantiate your Crew ---\n# Create a Crew with your defined agents and tasks\nmy_crew = Crew(\n    agents=[researcher], # Add all your agents here\n    tasks=[research_task], # Add all your tasks here\n    process=Process.sequential, # Or Process.hierarchical\n    verbose=2 # Optional: Set to 1 for simple output, 2 for detailed output\n)\n\n# --- Kick Off the Crew ---\n# This is the command that starts the crew's execution\nprint(\"## Crew starting to work...\")\nresult = my_crew.kickoff()\n\n# --- Access the result ---\nprint(\"\\n########################\")\nprint(\"## Crew finished working!\")\nprint(\"########################\\n\")\nprint(result) # The 'result' variable will contain the final output of the crew.\n```\n\n**Detailed Instructions:**\n1.  **Define your Agents and Tasks:** Before you can kick off a crew, you must first define your `Agent` and `Task` instances. Each agent should have a `role`, `goal`, and `backstory`. Each task needs a `description`, `expected_output`, and an assigned `agent`.\n2.  **Instantiate the `Crew`:** Create an instance of the `Crew` class, passing your list of `agents` and `tasks`. You also need to specify the `process` (e.g., `Process.sequential` or `Process.hierarchical`) and can optionally set `verbose` for more detailed logging.\n3.  **Call `kickoff()`:** Once your `Crew` object is instantiated, simply call the `.kickoff()` method on that object. This method orchestrates the execution flow, delegating tasks to agents as per the defined process.\n4.  **Capture the Output:** The `kickoff()` method returns the final output of the crew's execution, which can be captured in a variable (e.g., `result`) for further processing or display.\n\n### Adding Memory to Your Crew\n\nRegarding your question about adding memory to your Crew, this is a fantastic feature for enabling agents to retain context and learn from past interactions, which is crucial for complex, long-running software development projects.\n\nAdding memory to a CrewAI Crew is crucial for enabling agents to retain context, learn from past interactions, and ensure continuity across tasks, especially in multi-step or long-running processes. This is achieved by setting a specific parameter during the Crew initialization.\n\n**Official Documentation Reference:** The dedicated \"Memory\" section of our documentation details how to enable and utilize this feature.\n\n**Specific Method and Parameters:**\nMemory is enabled by setting the `memory` parameter to `True` when initializing the `Crew` object.\n\n**Precise Code Example:**\n\n```python\nfrom crewai import Crew, Process, Agent, Task\n\n# --- Define your Agents ---\n# Example Agent 1\nresearcher_agent = Agent(\n    role='Senior Market Researcher',\n    goal='Analyze market trends and customer feedback for new product ideas.',\n    backstory='An expert in market analysis, skilled at synthesizing data into actionable insights.',\n    verbose=True,\n    allow_delegation=False\n)\n\n# Example Agent 2\nproduct_designer_agent = Agent(\n    role='Innovative Product Designer',\n    goal='Translate research insights into tangible product concepts.',\n    backstory='A creative designer with a flair for user-centric solutions.',\n    verbose=True,\n    allow_delegation=True # Allows delegating parts of design if needed\n)\n\n# --- Define your Tasks ---\n# Task 1: Market Research\nmarket_research_task = Task(\n    description='Conduct a comprehensive analysis of the current e-commerce market for smart home devices, identifying key trends, competitor offerings, and customer pain points.',\n    expected_output='A detailed market research report highlighting opportunities for a new smart home product.',\n    agent=researcher_agent\n)\n\n# Task 2: Product Concept Development\nproduct_concept_task = Task(\n    description='Based on the market research report, develop 3-5 innovative product concepts for a new smart home device, including their core features and unique selling propositions.',\n    expected_output='A presentation slide deck outlining 3-5 distinct smart home product concepts with feature sets.',\n    agent=product_designer_agent\n)\n\n# --- Instantiate your Crew with Memory Enabled ---\n# The key part for enabling memory is setting 'memory=True'\ncrew_with_memory = Crew(\n    agents=[researcher_agent, product_designer_agent],\n    tasks=[market_research_task, product_concept_task],\n    process=Process.sequential, # Tasks will run one after another\n    memory=True,  # <--- This parameter enables memory for the entire crew\n    verbose=2     # Optional: Set to 1 for simple output, 2 for detailed output\n)\n\n# --- Kick Off the Crew ---\nprint(\"## Crew with Memory starting to work...\")\nresult_with_memory = crew_with_memory.kickoff()\n\nprint(\"\\n########################\")\nprint(\"## Crew with Memory finished working!\")\nprint(\"########################\\n\")\nprint(result_with_memory)\n```\n\n**Detailed Instructions:**\n1.  **Ensure Crew Initialization:** Memory is a property of the `Crew` itself, not individual agents or tasks. Therefore, you must enable it at the time of the `Crew` object's instantiation.\n2.  **Set `memory=True`:** When creating your `Crew` instance, simply add `memory=True` to its parameters.\n    *   `crew = Crew(agents=[...], tasks=[...], process=Process.sequential, memory=True, verbose=2)`\n3.  **How Memory Works:** When `memory=True` is set, the CrewAI framework will automatically manage and pass relevant context (e.g., outputs from previous tasks, key information from agent interactions) to subsequent agents and tasks. This ensures that agents have a more comprehensive understanding of the ongoing process and don't \"forget\" prior information, leading to more coherent and intelligent multi-step executions.\n4.  **No Additional Code for Memory Management (Typically):** You generally do not need to write explicit code to \"add\" or \"retrieve\" items from memory once `memory=True` is set. The framework handles this internally, providing the context to the agents as needed for their next actions. The agents' prompts are dynamically updated with relevant past interactions.\n\n---\n\nMr. Bezos, we've gone the extra mile to ensure you have the most precise and actionable guidance directly from our documentation. We are fully committed to ensuring Amazon.com has the best experience with CrewAI, and I am here to assist you every step of the way. Please let me know if there's anything else I can help with!\n\nBest regards,\n\nYour Senior Support Representative at crewAI"
          },
          "metadata": {},
          "execution_count": 34
        }
      ]
    },
    {
      "cell_type": "code",
      "source": [],
      "metadata": {
        "id": "pjldHpSKmvn8"
      },
      "execution_count": null,
      "outputs": []
    }
  ]
}