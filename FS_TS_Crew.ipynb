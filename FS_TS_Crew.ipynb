{
  "nbformat": 4,
  "nbformat_minor": 0,
  "metadata": {
    "colab": {
      "provenance": [],
      "include_colab_link": true
    },
    "kernelspec": {
      "name": "python3",
      "display_name": "Python 3"
    },
    "language_info": {
      "name": "python"
    }
  },
  "cells": [
    {
      "cell_type": "markdown",
      "metadata": {
        "id": "view-in-github",
        "colab_type": "text"
      },
      "source": [
        "<a href=\"https://colab.research.google.com/github/parthag1201/Authentication_google/blob/main/FS_TS_Crew.ipynb\" target=\"_parent\"><img src=\"https://colab.research.google.com/assets/colab-badge.svg\" alt=\"Open In Colab\"/></a>"
      ]
    },
    {
      "cell_type": "code",
      "execution_count": null,
      "metadata": {
        "id": "cF6dM2vmiVyQ"
      },
      "outputs": [],
      "source": [
        "# Install packages for crew and langchain\n",
        "!pip install crewai==0.28.8 crewai_tools==0.1.6 langchain_community==0.0.29 langchain_google_genai"
      ]
    },
    {
      "cell_type": "code",
      "source": [
        "import google.generativeai as genai\n",
        "from langchain_google_genai import ChatGoogleGenerativeAI, GoogleGenerativeAIEmbeddings"
      ],
      "metadata": {
        "id": "UvBf6m_DA384"
      },
      "execution_count": null,
      "outputs": []
    },
    {
      "cell_type": "code",
      "source": [
        "# Warning Control\n",
        "import warnings\n",
        "warnings.filterwarnings('ignore')"
      ],
      "metadata": {
        "id": "YcAyfeq2itwz"
      },
      "execution_count": null,
      "outputs": []
    },
    {
      "cell_type": "code",
      "source": [
        "# Import crewAI library\n",
        "from crewai import Agent, Task, Crew, Process"
      ],
      "metadata": {
        "id": "yplJOE5njU4c"
      },
      "execution_count": null,
      "outputs": []
    },
    {
      "cell_type": "code",
      "source": [
        "import os\n",
        "from google.colab import userdata # For API Secret\n",
        "# openai_api_key = get_openai_api_key()\n",
        "# os.environ[\"OPENAI_MODEL_NAME\"] = 'gpt-3.5-turbo'\n",
        "\n",
        "os.environ[\"GEMINI_MODEL_NAME\"] = 'gemini-2.5-pro'"
      ],
      "metadata": {
        "id": "8lgQw0PWjgPP"
      },
      "execution_count": null,
      "outputs": []
    },
    {
      "cell_type": "code",
      "source": [
        "abap_code_string = \"\"\"\n",
        "REPORT Z_MCCAIN_SALES_ANALYSIS.\n",
        "\n",
        "TABLES: vbak, vbap, mara.\n",
        "\n",
        "DATA: gt_sales_data TYPE TABLE OF ty_sales,\n",
        "      gs_sales_data TYPE ty_sales.\n",
        "\n",
        "*----------------------------------------------------------------------*\n",
        "* Selection Screen\n",
        "*----------------------------------------------------------------------*\n",
        "SELECT-OPTIONS: s_vbeln FOR vbak-vbeln,\n",
        "                s_matnr FOR mara.matnr.\n",
        "PARAMETERS:     p_top TYPE i DEFAULT 10.\n",
        "\n",
        "*----------------------------------------------------------------------*\n",
        "* Start of Selection\n",
        "*----------------------------------------------------------------------*\n",
        "START-OF-SELECTION.\n",
        "  PERFORM get_sales_data.\n",
        "  PERFORM display_sales_data.\n",
        "\n",
        "*&---------------------------------------------------------------------*\n",
        "*&      Form  GET_SALES_DATA\n",
        "*&---------------------------------------------------------------------*\n",
        "FORM get_sales_data.\n",
        "  SELECT vbeln, posnr, matnr, netwr\n",
        "    FROM vbap\n",
        "    INTO CORRESPONDING FIELDS OF TABLE gt_sales_data\n",
        "    WHERE vbeln IN s_vbeln AND matnr IN s_matnr\n",
        "    UP TO p_top ROWS.\n",
        "ENDFORM.\n",
        "\n",
        "*&---------------------------------------------------------------------*\n",
        "*&      Form  DISPLAY_SALES_DATA\n",
        "*&---------------------------------------------------------------------*\n",
        "FORM display_sales_data.\n",
        "  LOOP AT gt_sales_data INTO gs_sales_data.\n",
        "    WRITE: / gs_sales_data-vbeln,\n",
        "             gs_sales_data-posnr,\n",
        "             gs_sales_data-matnr,\n",
        "             gs_sales_data-netwr.\n",
        "  ENDLOOP.\n",
        "ENDFORM.\n",
        "\"\"\""
      ],
      "metadata": {
        "id": "PhnHJN2xVsxg"
      },
      "execution_count": null,
      "outputs": []
    },
    {
      "cell_type": "code",
      "source": [
        "template_TS = \"\"\"Table of Contents\n",
        "\n",
        "1. Enhancement Narrative\n",
        "\n",
        "1.1 Request Details\n",
        "\n",
        "1.2 Enhancement Definition\n",
        "\n",
        "2. Enhancement Functional Requirements\n",
        "\n",
        "2.1 Business Requirements\n",
        "\n",
        "2.1.1 Objective\n",
        "\n",
        "2.1.2 Scope\n",
        "\n",
        "2.2 As-Is/To-Be Functionality\n",
        "\n",
        "2.2.1 Special Requirements\n",
        "\n",
        "2.3 SAP Standard Reference\n",
        "\n",
        "2.4 Inputs and Dependencies\n",
        "\n",
        "2.5 Regulatory / Compliance Requirements\n",
        "\n",
        "2.6 Assumptions\n",
        "\n",
        "3. Enhancement Specifications\n",
        "\n",
        "3.1 User Exit /BADI/Routines/ Details\n",
        "\n",
        "3.2 Transaction Screens\n",
        "\n",
        "3.2.1 Screen Flow\n",
        "\n",
        "3.3 Enhancement Processing Logic – Key steps\n",
        "\n",
        "3.4 Table Data Access\n",
        "\n",
        "4. Error Handling\n",
        "\n",
        "5. Level 0 Test Requirements\n",
        "\n",
        "6. Additional Information\n",
        "\n",
        "7. Acronyms, Abbreviations, and Terms\n",
        "\n",
        "8. References\n",
        "\n",
        "9. Document Attributes\"\"\""
      ],
      "metadata": {
        "id": "8JyeRcYxiPPo"
      },
      "execution_count": null,
      "outputs": []
    },
    {
      "cell_type": "code",
      "source": [
        "template_FS = \"\"\"\n",
        "1. Enhancement Narrative\n",
        "\n",
        "1.1 Request Details\n",
        "\n",
        "1.2 Enhancement Definition\n",
        "\n",
        "2. Enhancement Functional Requirements\n",
        "\n",
        "2.1 Business Requirements\n",
        "\n",
        "2.1.1 Objective\n",
        "\n",
        "2.1.2 Scope\n",
        "\n",
        "2.2 As-Is/To-Be Functionality\n",
        "\n",
        "2.2.1 Special Requirements\n",
        "\n",
        "2.3 SAP Standard Reference\n",
        "\n",
        "2.4 Inputs and Dependencies\n",
        "\n",
        "2.5 Regulatory / Compliance Requirements\n",
        "\n",
        "2.6 Assumptions\n",
        "\n",
        "3. Enhancement Specifications\n",
        "\n",
        "3.1 User Exit /BADI/Routines/ Details\n",
        "\n",
        "3.2 Transaction Screens\n",
        "\n",
        "3.2.1 Screen Flow\n",
        "\n",
        "3.3 Enhancement Processing Logic – Key steps\n",
        "\n",
        "3.4 Table Data Access\n",
        "\n",
        "4. Error Handling\n",
        "\n",
        "5. Level 0 Test Requirements\n",
        "\n",
        "6. Additional Information\n",
        "\n",
        "7. Acronyms, Abbreviations, and Terms\n",
        "\n",
        "8. References\n",
        "\n",
        "9. Document Attributes\n",
        "\"\"\""
      ],
      "metadata": {
        "id": "c0ocELzTjVBh"
      },
      "execution_count": null,
      "outputs": []
    },
    {
      "cell_type": "code",
      "source": [
        "# Agents\n",
        "from langchain_community.llms import HuggingFaceHub # Import necessary class if using Hugging Face models\n",
        "from langchain_google_genai import ChatGoogleGenerativeAI # Import the correct class for Gemini\n",
        "\n",
        "# Initialize the Gemini LLM\n",
        "os.environ['GOOGLE_API_KEY']=userdata.get('Gemini_ai_api')\n",
        "gemini_llm = ChatGoogleGenerativeAI(model=\"gemini-2.5-flash\")\n",
        "\n",
        "\n",
        "abap_code_analyst = Agent(\n",
        "    role=\"Senior ABAP Code Analyst\",\n",
        "    goal=\"Dissect the provided ABAP report code to extract all technical details and the logic flow of the report.\"\n",
        "    \"Focus on identifying data sources, selection screens, core logic, and output structures.\"\n",
        "    \"You need to go through each and every section of report to the extent form where a good Functional and Technical specification can be derived out of it\"\n",
        "    \"This is the ABAP report code : '{abap_report_code}'\",\n",
        "    backstory=\"\"\"You are an expert ABAP developer with decades of experience. You have an exceptional eye for detail\n",
        "    and can instantly understand the flow and structure of any ABAP program. Your task is to analyze the\n",
        "    code and provide a structured, raw analysis for the documentation team.\"\"\",\n",
        "    allow_delegation=False,\n",
        "    verbose=True,\n",
        "    llm=gemini_llm,\n",
        ")\n",
        "\n",
        "functional_spec_drafter = Agent(\n",
        "    role=\"Business Systems Analyst\",\n",
        "    goal=\"Translate the technical analysis of an ABAP report into a clear and concise\"\n",
        "   \"functional specification document for business stakeholders.\"\n",
        "   \"Refer to this professional template for creating a business functional specification document. '{template_FS}'\",\n",
        "    backstory=\"\"\"You are a bridge between the technical team and the business. You excel at taking complex\n",
        "    technical jargon and reframing it in terms of business processes and objectives. Your functional\n",
        "    specifications are legendary for their clarity and business relevance, enabling stakeholders to\n",
        "    understand exactly what a report does.\"\"\",\n",
        "    allow_delegation=True,\n",
        "    verbose=True,\n",
        "    llm=gemini_llm,\n",
        ")\n",
        "\n",
        "technical_spec_writer = Agent(\n",
        "    role=\"Technical Documentation Specialist\",\n",
        "    goal=\"\"\"Create a comprehensive and detailed technical specification document based on the\n",
        "    ABAP code analysis.\"\"\"\n",
        "    \"Refer to this professional template for creating a business technical specification document. '{template_TS}'\",\n",
        "    backstory=\"\"\"You are a meticulous technical writer who specializes in creating documentation for developers.\n",
        "    Your specifications are precise, well-structured, and follow industry best practices. Your work ensures\n",
        "    that any developer can pick up the report for maintenance or enhancement with complete clarity\n",
        "    on its internal workings.\"\"\",\n",
        "    allow_delegation=True,\n",
        "    verbose=True,\n",
        "    llm=gemini_llm,\n",
        ")\n",
        "\n",
        "manager_agent = Agent(\n",
        "    role='Manager Agent',\n",
        "    goal='Oversee the generation and refinement of Functional and Technical Specifications, facilitate collaboration, incorporate reviewer feedback, and ensure final output meets all requirements.'\n",
        "    'The FS and TS reports must contain all the important information extracted from the report fror the business team to understand each and every ascpet of the report easily',\n",
        "    backstory=\"\"\"You are an experienced SAP S4 project manager with a deep understanding of software development life cycles and well versed with the good practises of SAP, Busness needs and ABAP Development.\n",
        "    You excel at breaking down complex tasks, coordinating teams, incorporating feedback, and ensuring quality deliverables.\n",
        "    You are adept at communicating with both technical and business stakeholders.\"\"\",\n",
        "    verbose=True,\n",
        "    allow_delegation=True,\n",
        "    llm=gemini_llm,\n",
        ")\n",
        "\n",
        "output_reviewer = Agent(\n",
        "    role='Output Reviewer (Business Knowledge)',\n",
        "    goal='Review consolidated Functional and Technical Specifications and provide constructive feedback to the Manager Agent for refinement, focusing on business alignment and completeness.',\n",
        "    backstory=\"\"\"You are a business stakeholder with a keen eye for detail and a deep understanding of the organizational goals and user needs.\n",
        "    You critically evaluate specifications, ensuring they meet intended business objectives and provide actionable feedback for improvement.\"\"\",\n",
        "    verbose=True,\n",
        "    allow_delegation=False,\n",
        "    llm=gemini_llm,\n",
        ")"
      ],
      "metadata": {
        "id": "6YZ7k8PIl1SR"
      },
      "execution_count": null,
      "outputs": []
    },
    {
      "cell_type": "code",
      "source": [
        "# Tasks\n",
        "\n",
        "analyze_code_task = Task(\n",
        "    description=\"\"\"Analyze the following ABAP report code: '{abap_report_code}'.\n",
        "                   Your analysis must cover these key areas:\n",
        "                   1.  **Data Sources:** Identify all database tables, views, or structures being used.\n",
        "                   2.  **Selection Screen:** Detail all SELECT-OPTIONS and PARAMETERS, including their technical IDs and associated data elements.\n",
        "                   3.  **Core Processing Logic:** Summarize the main logic blocks, including loops, conditionals (IF/CASE statements), and subroutine calls (PERFORM).\n",
        "                   4.  **Data Output:** Describe how the final data is presented (e.g., ALV grid, classical report WRITE statements) and list the fields being displayed.\"\"\",\n",
        "    expected_output=\"\"\"A structured text document containing a raw, point-by-point technical breakdown of the ABAP report.\n",
        "                       This output should be purely technical and serve as the foundational information for other agents.\"\"\",\n",
        "    agent=abap_code_analyst,\n",
        ")\n",
        "\n",
        "# Task for the Functional Spec Drafter\n",
        "functional_spec_task = Task(\n",
        "    description=\"\"\"Using the technical analysis provided by the ABAP Code Analyst, create a functional specification document.\n",
        "                   The document should explain the report's purpose and functionality from a business user's perspective.\n",
        "                   It must include:\n",
        "                   1.  **Report Purpose:** A high-level summary of what the report achieves.\n",
        "                   2.  **Selection Criteria:** Explain the input fields in simple business terms (e.g., \"User can filter by Sales Document Number\").\n",
        "                   3.  **Processing Logic Summary:** Describe what the report does with the data in plain language (e.g., \"The report calculates the total net value for the selected sales orders\").\n",
        "                   4.  **Output Description:** Describe the layout and columns of the final report from a user's point of view.\"\"\",\n",
        "    expected_output=\"\"\"A well-formatted functional specification document in Markdown. The language should be clear,\n",
        "                       non-technical, and focused on the business value and utility of the report.\"\"\",\n",
        "    agent=functional_spec_drafter,\n",
        ")\n",
        "\n",
        "# Task for the Technical Spec Writer\n",
        "technical_spec_task = Task(\n",
        "    description=\"\"\"Using the detailed technical analysis from the ABAP Code Analyst, create a formal technical specification document.\n",
        "                   This document must be structured for a developer audience and include:\n",
        "                   1.  **Program Details:** Program ID, Title, and a brief technical overview.\n",
        "                   2.  **Data Declarations:** List of key tables, internal tables, and complex variables.\n",
        "                   3.  **Selection Screen Objects:** A table listing each selection screen field with its technical name and properties.\n",
        "                   4.  **Detailed Logic Flow:** A step-by-step description of the program's execution logic, referencing specific subroutines and key logic blocks.\n",
        "                   5.  **Output Details:** A technical breakdown of the output display, including the field catalog for ALV grids or the format of WRITE statements.\"\"\",\n",
        "    expected_output=\"\"\"A comprehensive technical specification document in Markdown. It should be precise, detailed, and\n",
        "                       formatted professionally to serve as official technical documentation.\"\"\",\n",
        "    agent=technical_spec_writer,\n",
        ")\n",
        "\n",
        "\n",
        "# Manager Task for initial consolidation\n",
        "initial_consolidation_task = Task(\n",
        "    description=\"\"\"Consolidate the initial Functional and Technical Specifications into a single, cohesive document.\n",
        "    Ensure both specifications are present and well-formatted for review.\n",
        "    \"\"\",\n",
        "    expected_output=\"A single Markdown document containing the initial Functional Specification and Technical Specification, clearly separated.\",\n",
        "    agent=manager_agent,\n",
        "    context=[functional_spec_task, technical_spec_task],\n",
        "    llm=gemini_llm,\n",
        ")\n",
        "\n",
        "# Output Reviewer Task to provide feedback to the manager\n",
        "output_review_feedback_task = Task(\n",
        "    description=\"\"\"Review the provided consolidated Functional and Technical Specifications.\n",
        "    Focus on business alignment, clarity, completeness, and accuracy from a business perspective.\n",
        "    Provide constructive feedback to the Manager Agent, detailing any required changes or improvements.\n",
        "    The output should be a clear, concise, and structured list of actionable feedback points, not a final report.\n",
        "    \"\"\",\n",
        "    expected_output=\"A structured list of feedback points (e.g., bullet points, numbered list) for the Manager Agent to use for refining the specifications. Example: '- Section X needs more detail on Y. - Clarify business impact of Z. - Ensure consistency between FS and TS for ABC.'\",\n",
        "    agent=output_reviewer,\n",
        "    context=[initial_consolidation_task], # Reviewer reviews the initial consolidated output\n",
        "    llm=gemini_llm,\n",
        ")\n",
        "\n",
        "# Manager Task for final refinement based on feedback\n",
        "final_specification_task = Task(\n",
        "    description=\"\"\"Based on the initial Functional and Technical Specifications and the feedback provided by the Output Reviewer,\n",
        "    make necessary revisions to both specifications. Your goal is to produce the final, polished, and\n",
        "    approved Functional and Technical Specifications in a single consolidated document.\n",
        "    The output must contain the actual Functional Specification and Technical Specification,\n",
        "    incorporating all valid feedback. Ensure clear separation between the FS and TS sections in the final output.\n",
        "    \"\"\",\n",
        "    expected_output=\"A single, comprehensive Markdown document containing the final, refined Functional Specification and Technical Specification, clearly separated (e.g., using distinct headings like '# Functional Specification' and '# Technical Specification') and incorporating all reviewer feedback.\",\n",
        "    agent=manager_agent,\n",
        "    context=[initial_consolidation_task, output_review_feedback_task], # Manager uses both initial specs and feedback\n",
        "    llm=gemini_llm,\n",
        "    output_file='final_consolidated_specifications.md' # Final output will be saved here\n",
        ")"
      ],
      "metadata": {
        "id": "JrYbajlsATJa"
      },
      "execution_count": null,
      "outputs": []
    },
    {
      "cell_type": "code",
      "source": [
        "# Call the crew\n",
        "\n",
        "abap_doc_crew = Crew(\n",
        "    agents=[\n",
        "        abap_code_analyst,\n",
        "        functional_spec_drafter,\n",
        "        technical_spec_writer,\n",
        "        manager_agent,\n",
        "        output_reviewer\n",
        "    ],\n",
        "    tasks=[\n",
        "        analyze_code_task,\n",
        "        functional_spec_task,\n",
        "        technical_spec_task,\n",
        "        initial_consolidation_task,\n",
        "        output_review_feedback_task,\n",
        "        final_specification_task # This task produces the final output after review\n",
        "    ],\n",
        "    process=Process.sequential,\n",
        "    verbose=2\n",
        ")"
      ],
      "metadata": {
        "id": "iLUHokDMAfDr",
        "collapsed": true
      },
      "execution_count": null,
      "outputs": []
    },
    {
      "cell_type": "code",
      "source": [
        "# Start execution\n",
        "\n",
        "result = abap_doc_crew.kickoff(\n",
        "    inputs={\n",
        "        'abap_report_code': abap_code_string,\n",
        "        'template_FS' : template_FS,\n",
        "        'template_TS' : template_TS\n",
        "        })"
      ],
      "metadata": {
        "id": "0K5gqlMhB08_"
      },
      "execution_count": null,
      "outputs": []
    },
    {
      "cell_type": "code",
      "source": [
        "from IPython.display import Markdown\n",
        "Markdown(result)"
      ],
      "metadata": {
        "colab": {
          "base_uri": "https://localhost:8080/",
          "height": 1000
        },
        "collapsed": true,
        "id": "IsglXpvyB5_Z",
        "outputId": "f446c34b-7407-4709-9400-bdf0ec0848ac"
      },
      "execution_count": null,
      "outputs": [
        {
          "output_type": "execute_result",
          "data": {
            "text/plain": [
              "<IPython.core.display.Markdown object>"
            ],
            "text/markdown": "# Consolidated Report Specifications: Z_MCCAIN_SALES_ANALYSIS\n\n---\n\n# Functional Specification Document: Z_MCCAIN_SALES_ANALYSIS\n\n## 1. Enhancement Narrative\n\n### 1.1 Request Details\nThis document outlines the functional requirements for a new custom ABAP report, `Z_MCCAIN_SALES_ANALYSIS`, which aims to provide quick and focused insights into sales order item details. The request stems from a business need for a streamlined view of sales item data, allowing for specific filtering and a controlled output size.\n\n### 1.2 Enhancement Definition\nThe `Z_MCCAIN_SALES_ANALYSIS` report, officially titled **\"McCain Sales Order Item Analysis Report\"**, is designed to extract and display key sales order item information. It will allow users to query sales data based on specific sales documents or materials and limit the output to a 'Top N' number of records based on defined business criteria. This report will serve as a quick lookup tool for sales item details, including quantity and unit of measure, which were identified as critical for comprehensive analysis.\n\n## 2. Enhancement Functional Requirements\n\n### 2.1 Business Requirements\n\n#### 2.1.1 Objective\nThe primary objective of the \"McCain Sales Order Item Analysis Report\" is to support quick lookup and focused review of sales item details, including quantity and unit of measure, for specific sales documents or materials. This report is intended to provide immediate, actionable insights into sales item performance without requiring extensive aggregation or drill-down capabilities in this initial release.\n\n#### 2.1.2 Scope\nThe report will display the following key sales item information for selected sales orders:\n*   Sales Document Number\n*   Sales Item Number\n*   Material Number\n*   Net Value\n*   **Currency Unit (from Sales Document Header)**\n*   **Quantity (VBAP-KWMENG)**\n*   **Unit of Measure (VBAP-VRKME)**\n\nUsers will be able to filter the data using the following input parameters on the selection screen:\n*   Sales Document Number (single value or range)\n*   Material Number (single value or range)\n*   Top N Rows (numeric value to limit output)\n\nThe report will present the data in a clear, tabular format.\n\n### 2.2 As-Is/To-Be Functionality\n\n**As-Is:** Currently, business users rely on standard SAP transactions (e.g., VA03) for individual sales order lookups or more complex, broader reports that may not offer the targeted, quick overview required for specific sales item analysis. There is no dedicated, lightweight report for this specific purpose.\n\n**To-Be:** The \"McCain Sales Order Item Analysis Report\" (`Z_MCCAIN_SALES_ANALYSIS`) will fill this gap by providing a user-friendly, focused report that allows for efficient retrieval and review of critical sales item data, including quantity and unit of measure, with the added benefit of a 'Top N Rows' limit for managing output size.\n\n#### 2.2.1 Special Requirements\nThe 'Top N Rows' functionality requires a precise and consistent ordering logic to ensure that the \"top\" records are always determined by business-relevant criteria. This logic is crucial for the report's utility and reliability.\n\n### 2.3 SAP Standard Reference\nThis custom report will primarily reference data from standard SAP Sales and Distribution (SD) tables, specifically:\n*   Sales Document Header: `VBAK`\n*   Sales Document Item: `VBAP`\n\n### 2.4 Inputs and Dependencies\n*   **Inputs:** User-provided values for Sales Document Number, Material Number, and the 'Top N Rows' limit on the report's selection screen.\n*   **Dependencies:** The report is dependent on the accurate and timely creation and update of sales orders within the SAP system. Data consistency in `VBAK` and `VBAP` tables is assumed.\n\n### 2.5 Regulatory / Compliance Requirements\nNo specific regulatory or compliance requirements beyond standard data privacy and access controls applicable to sales data within SAP.\n\n### 2.6 Assumptions\n*   Users have the necessary authorizations to execute custom ABAP reports and access sales order data.\n*   The required sales order item data (Sales Document, Item, Material, Net Value, Quantity, Unit of Measure) is consistently maintained in the SAP system.\n*   The report will be executed primarily for ad-hoc analysis and quick lookups, rather than for large-scale data extracts or complex analytical processing.\n\n## 3. Enhancement Specifications\n\n### 3.1 User Exit /BADI/Routines/ Details\nNot applicable, as this is a new standalone custom report (Z-report) developed from scratch, not an enhancement to existing standard SAP functionality via User Exits, BADIs, or standard routines.\n\n### 3.2 Transaction Screens\n\n#### 3.2.1 Screen Flow\n1.  **Selection Screen (Initial Screen):**\n    *   **Program Title:** McCain Sales Order Item Analysis Report\n    *   **Input Fields:**\n        *   Sales Document: Input field (e.g., `VBELN` from `VBAK`), allows single value, range, or multiple selections.\n        *   Material Number: Input field (e.g., `MATNR` from `VBAP`), allows single value, range, or multiple selections.\n        *   Top N Rows: Numeric input field, default value can be defined (e.g., 100), accepts positive integers.\n    *   **Execution:** User clicks the \"Execute\" button (F8).\n\n2.  **Output List (ALV Grid Display):**\n    *   Upon execution, the report will display the selected sales item data in an SAP List Viewer (ALV) grid format.\n    *   **Columns Displayed:**\n        *   Sales Document Number (`VBAK-VBELN`)\n        *   Sales Item Number (`VBAP-POSNR`)\n        *   Material Number (`VBAP-MATNR`)\n        *   Net Value (`VBAP-NETWR`)\n        *   Currency Unit (`VBAK-WAERK`)\n        *   Quantity (`VBAP-KWMENG`)\n        *   Unit of Measure (`VBAP-VRKME`)\n    *   Standard ALV functionalities like sorting, filtering, and exporting will be available.\n\n### 3.3 Enhancement Processing Logic – Key steps\n1.  The report will retrieve the user-provided selection criteria for Sales Document Number, Material Number, and the 'Top N Rows' limit from the selection screen.\n2.  It will then query the SAP database, primarily accessing tables `VBAK` (Sales Document Header) and `VBAP` (Sales Document Item), to fetch relevant sales order item data that matches the specified Sales Document Number and Material Number filters.\n3.  **Data Sorting for 'Top N' Logic:** Before applying the 'Top N' limit, the retrieved sales order item records will be sorted based on the following multi-level criteria to ensure consistent, business-relevant results for the \"top\" records:\n    *   **a. Net Value (VBAP-NETWR):** Records will be sorted in **descending order** (items with higher net value will appear first).\n    *   **b. Sales Document Number (VBAK-VBELN):** In case of identical Net Values, records will be further sorted by Sales Document Number in **ascending order** (for consistent tie-breaking).\n    *   **c. Sales Item Number (VBAP-POSNR):** If both Net Value and Sales Document Number are identical, records will be sorted by Sales Item Number in **ascending order** (for final tie-breaking within a sales document).\n4.  After sorting, the report will select and display only the first 'N' records from the sorted dataset, corresponding to the 'Top N Rows' limit specified by the user. If the total number of records matching the criteria is less than 'N', all matching records will be displayed.\n5.  The selected data will be presented in an ALV grid format on the output screen.\n\n### 3.4 Table Data Access\nThe report will access data from the following SAP tables and fields:\n*   **VBAK (Sales Document: Header Data):**\n    *   `VBELN` (Sales Document Number) - for joining and selection.\n    *   `WAERK` (SD Document Currency) - for displaying currency unit.\n*   **VBAP (Sales Document: Item Data):**\n    *   `VBELN` (Sales Document Number) - for joining with VBAK.\n    *   `POSNR` (Sales Document Item)\n    *   `MATNR` (Material Number)\n    *   `NETWR` (Net Value of the Item)\n    *   `KWMENG` (Sales Quantity)\n    *   `VRKME` (Sales Unit)\n\n## 4. Error Handling\n*   **No Data Found:** If no records match the selection criteria, a clear message will be displayed to the user (e.g., \"No sales order item data found for the specified criteria.\").\n*   **Invalid Input:** Input fields will be validated for correct data types (e.g., 'Top N Rows' must be numeric). Standard SAP value helps (F4) and input validation (e.g., for existing Sales Document or Material Numbers) will be active. Error messages will guide the user to correct invalid entries.\n*   **System Errors:** Standard ABAP error handling will be implemented to catch and log any unexpected system errors, providing technical details if required for debugging, while displaying a user-friendly message.\n\n## 5. Level 0 Test Requirements\n*   Verify report execution with all selection parameters empty (should display 'Top N' records based on global sort).\n*   Test with specific Sales Document Number(s) and Material Number(s) to ensure accurate filtering.\n*   Test with a 'Top N Rows' limit (e.g., 10, 50, 1000) to confirm only the specified number of records are displayed and the sorting logic for 'Top N' is correctly applied (Net Value Descending, then Sales Doc Ascending, then Item Ascending).\n*   Test scenarios where no data is found for the given criteria.\n*   Verify output columns include Sales Document, Item, Material, Net Value, Currency Unit, Quantity, and Unit of Measure.\n*   Confirm ALV functionalities (sorting, filtering, export) are working as expected.\n*   Test input validation for Sales Document Number and Material Number with invalid/non-existent entries.\n\n## 6. Additional Information\nThis report is intended for quick, operational lookups and not for complex analytical reporting that might require aggregation or advanced drill-down capabilities. Future enhancements for more sophisticated analysis would require a separate functional specification.\n\n## 7. Acronyms, Abbreviations, and Terms\n*   **ABAP:** Advanced Business Application Programming\n*   **ALV:** SAP List Viewer\n*   **BSA:** Business Systems Analyst\n*   **FSD:** Functional Specification Document\n*   **MATNR:** Material Number (Unique identifier for a product or service)\n*   **NETWR:** Net Value (The value of a sales document item excluding taxes, discounts, etc.)\n*   **POSNR:** Sales Document Item Number (Unique line item number within a sales document)\n*   **SAP:** Systems, Applications, and Products in Data Processing\n*   **UoM:** Unit of Measure\n*   **VBAK:** Sales Document: Header Data (SAP table)\n*   **VBAP:** Sales Document: Item Data (SAP table)\n*   **VBELN:** Sales Document Number (Unique identifier for a sales order or other sales document)\n*   **WAERK:** SD Document Currency (Currency key for sales documents)\n\n## 8. References\n*   Technical Specification Document for Z_MCCAIN_SALES_ANALYSIS (to be linked upon finalization)\n*   SAP Standard Documentation for Sales Order Processing (SD module)\n\n## 9. Document Attributes\n*   **Document Name:** Functional Specification - Z_MCCAIN_SALES_ANALYSIS\n*   **Version:** 1.1\n*   **Date:** 2023-10-27\n*   **Author:** Manager Agent / Business Systems Analyst\n*   **Status:** Final\n\n---\n\n# Technical Specification Document: Z_MCCAIN_SALES_ANALYSIS\n\n## 1. Enhancement Narrative\n\n### 1.1 Request Details\nThis document outlines the technical design and specifications for a new custom SAP ABAP report, `Z_MCCAIN_SALES_ANALYSIS`. The report is designed to provide business users with a quick and focused overview of sales document item data, enabling efficient analysis based on specific sales and material criteria, including quantity and unit of measure.\n\n### 1.2 Enhancement Definition\nThe `Z_MCCAIN_SALES_ANALYSIS` report, officially titled **\"McCain Sales Order Item Analysis Report\"**, will enable users to retrieve and display key sales item details, including sales document number, item number, material number, net value, currency unit, quantity, and unit of measure. Users can filter the data by sales document number and material number, and also limit the number of results displayed based on a defined sorting order. This report aims to provide immediate insights into sales transactions at the item level via an ALV grid display.\n\n**Program Details:**\n*   **Program ID:** `Z_MCCAIN_SALES_ANALYSIS`\n*   **Program Title:** `McCain Sales Order Item Analysis Report` (Set in program attributes via `REPORT ... TITLE 'McCain Sales Order Item Analysis Report'`).\n*   **Technical Overview:**\n    *   **Program Type:** Executable Program (`REPORT`).\n    *   **Purpose:** This report is designed to retrieve, sort, and display sales document item data, including quantity and unit of measure, based on user-defined selection criteria for sales document number, material number, and a 'Top N Rows' limit.\n    *   **Architecture:** The program utilizes standard ABAP `SELECT` statements for data retrieval and leverages the SAP List Viewer (ALV) functionality for a user-friendly and interactive data display. It primarily interacts with standard SAP transparent tables (`VBAK`, `VBAP`, `MARA`). Data retrieval, sorting, and ALV display logic will be encapsulated in appropriate modularization units.\n\n## 2. Enhancement Functional Requirements\n\n### 2.1 Business Requirements\n\n#### 2.1.1 Objective\nThe primary objective of the \"McCain Sales Order Item Analysis Report\" is to support quick lookup and focused review of sales item details, including quantity and unit of measure, for specific sales documents or materials. This report is intended to provide immediate, actionable insights into sales item performance without requiring extensive aggregation or drill-down capabilities in this initial release.\n\n#### 2.1.2 Scope\nThis report focuses exclusively on sales document item data. It retrieves information from active sales orders based on user-defined selection criteria. The scope includes:\n*   Retrieval of Sales Document Number, Sales Document Item Number, Material Number, Net Value, Currency Unit, Quantity, and Unit of Measure.\n*   Filtering capabilities by Sales Document Number and Material Number.\n*   Limiting the output to a specified number of top records based on a defined sort order.\n\n### 2.2 As-Is/To-Be Functionality\n*   **As-Is:** Currently, users may need to navigate multiple standard SAP transactions (e.g., VA03 - Display Sales Order) or combine data from various standard reports to get a consolidated view of sales item data. This can be time-consuming and may not offer the desired level of focused filtering.\n*   **To-Be:** The `Z_MCCAIN_SALES_ANALYSIS` report will provide a streamlined, single-point access to sales item data with user-friendly filtering options and an ALV display, significantly reducing the effort required for basic sales item review.\n\n#### 2.2.1 Special Requirements\n*   **Top N Rows Display with Defined Order:** The report must include an option for users to limit the number of sales item records displayed in the output. This is crucial for performance and for users who only need to see the top few results. The default limit will be 100 rows, but users can adjust this. Crucially, the \"top\" records will be determined by a specific sorting order: Net Value (descending), then Sales Document Number (ascending), then Sales Item Number (ascending).\n\n### 2.3 SAP Standard Reference\nThis is a custom report (`Z` development) designed to meet specific business reporting needs. It leverages standard SAP sales data structures and tables, specifically drawing information from the Sales Document Item Data (VBAP) and Sales Document Header Data (VBAK) tables, and referencing General Material Data (MARA) for input validation. The output will utilize standard ALV (SAP List Viewer) functionality.\n\n### 2.4 Inputs and Dependencies\nThe report requires the following user inputs on its selection screen:\n\n*   **Sales Document Number (S_VBELN):**\n    *   **Purpose:** Allows users to filter the report results by one or more specific sales order numbers.\n    *   **Functionality:** Users can enter a single sales document number, a range of numbers, or select multiple individual numbers.\n    *   **Dependency:** This field directly filters data from the Sales Document Item data (`VBAP`). Input validation will be active against `VBAK-VBELN`.\n\n*   **Material Number (S_MATNR):**\n    *   **Purpose:** Enables users to filter the report results by one or more specific material numbers.\n    *   **Functionality:** Users can enter a single material number, a range of numbers, or select multiple individual numbers.\n    *   **Dependency:** This field directly filters data from the Sales Document Item data (`VBAP`). Input validation will be active against `MARA-MATNR`.\n\n*   **Top N Rows (P_TOP):**\n    *   **Purpose:** Controls the maximum number of sales item records that will be displayed in the report output after sorting.\n    *   **Functionality:** Users can enter any whole positive number. The default value will be 100. If left blank or set to 0, the report will display all records matching other criteria (up to system limits).\n    *   **Dependency:** This parameter limits the data retrieval from the database after sorting.\n\n### 2.5 Regulatory / Compliance Requirements\nNo specific regulatory or compliance requirements have been identified for this report. The report provides read-only access to existing sales data and does not modify any system records.\n\n### 2.6 Assumptions\n*   It is assumed that the underlying sales order data in SAP is accurate and up-to-date.\n*   Users will have the necessary authorizations to execute the report and access the relevant sales data.\n*   The report's performance will be acceptable for typical data volumes, especially with the \"Top N Rows\" functionality and optimized `SELECT` statements.\n\n## 3. Enhancement Specifications\n\n### 3.1 User Exit /BADI/Routines/ Details\nThis report is a standalone custom ABAP program and does not utilize standard SAP user exits or Business Add-Ins (BADIs). Its core logic is encapsulated within custom subroutines or methods for data retrieval, processing (sorting), and ALV display.\n\n### 3.2 Transaction Screens\n\nThe report will have a single selection screen (initial screen) where users enter their filtering criteria. After execution, the results will be displayed in an interactive ALV grid format.\n\n#### 3.2.1 Screen Flow\n1.  User executes the report transaction code (to be assigned).\n2.  The selection screen is presented, showing the \"Sales Document Number\", \"Material Number\", and \"Top N Rows\" input fields.\n3.  User enters desired criteria and executes the report (e.g., by pressing F8 or the Execute button).\n4.  The report output is displayed in a new screen as an ALV grid.\n\n**Selection Screen Objects:**\nThe report defines the following input fields on its selection screen:\n\n| Technical Name | Type           | Associated ABAP Dictionary Data Element / Domain | Properties                                   |\n| :------------- | :------------- | :----------------------------------------------- | :------------------------------------------- |\n| `S_VBELN`      | `SELECT-OPTIONS` | `VBELN_VA` (from `VBAK-VBELN`)                   | Standard `SELECT-OPTIONS` properties (range, multiple selection), input validation active. |\n| `S_MATNR`      | `SELECT-OPTIONS` | `MATNR` (from `MARA-MATNR`)                      | Standard `SELECT-OPTIONS` properties (range, multiple selection), input validation active. |\n| `P_TOP`        | `PARAMETERS`   | `INT4` (Standard ABAP type for integer)          | `TYPE i`, `DEFAULT 100`, `NO-ZERO` (ensures positive integer) |\n\n### 3.3 Enhancement Processing Logic – Key steps\n\nThe program execution follows a straightforward sequential flow:\n\n*   **Program Entry Point:** The program execution begins at `START-OF-SELECTION`.\n*   **Overall Logic Sequence:**\n    1.  Initialization (e.g., build field catalog for ALV).\n    2.  Call a subroutine/method to `get_sales_data`.\n    3.  Call a subroutine/method to `display_sales_data_alv`.\n\n#### 3.3.1 `FORM get_sales_data` (or equivalent method)\n\n*   **Purpose:** This subroutine/method is responsible for retrieving sales document item and header data from the database based on the user's selection criteria, and then sorting it.\n*   **Logic:**\n    *   A `SELECT` statement with `INNER JOIN` is executed to fetch specific fields from the `VBAP` and `VBAK` tables.\n    *   The `INTO CORRESPONDING FIELDS OF TABLE gt_sales_data` clause ensures that the selected fields (`vbeln`, `posnr`, `matnr`, `netwr`, `kwmeng`, `vrkme`, `waerk`) are populated into the corresponding components of the internal table `gt_sales_data`.\n    *   **Data Source:** `VBAP` (Sales Document Item Data) `INNER JOIN` `VBAK` (Sales Document Header Data).\n    *   **`WHERE` Conditions:**\n        *   `VBAP~vbeln IN s_vbeln`: Filters sales document numbers based on the input provided in the `S_VBELN` select-option.\n        *   `VBAP~matnr IN s_matnr`: Filters material numbers based on the input provided in the `S_MATNR` select-option.\n    *   **Sorting:** After data retrieval, the internal table `gt_sales_data` will be explicitly sorted before the `UP TO` clause is applied (if done in ABAP layer, otherwise `ORDER BY` in `SELECT`):\n        `SORT gt_sales_data BY netwr DESCENDING vbeln ASCENDING posnr ASCENDING.`\n    *   **Limiting Clause:** `UP TO p_top ROWS` (if sorting done in DB) or `DELETE ADJACENT DUPLICATES` after `SORT` (if sorting done in ABAP and then `p_top` records are taken from sorted table): The number of records retrieved/processed will be limited to the value specified in the `P_TOP` parameter.\n    *   **Data Manipulation/Preparation:** No explicit data manipulation or calculations are performed within this form/method beyond data retrieval and sorting.\n\n#### 3.3.2 `FORM display_sales_data_alv` (or equivalent method)\n\n*   **Purpose:** This subroutine/method is responsible for displaying the sorted sales data using ALV functionality.\n*   **Logic:**\n    *   If `gt_sales_data` is not empty, populate an ALV field catalog to define column properties (e.g., headings, data types, output length, reference fields for currency/quantity).\n    *   Call the appropriate ALV function module (e.g., `REUSE_ALV_GRID_DISPLAY` or `CL_SALV_TABLE`) to display the `gt_sales_data` internal table.\n    *   **Error Handling (No Data):** If `gt_sales_data` is empty, a message indicating \"No data found\" will be displayed.\n\n### 3.4 Table Data Access\n\nThe report primarily accesses data from the **Sales Document Item Data table (VBAP)** and **Sales Document Header Data table (VBAK)**. It uses the Sales Document Header Data (VBAK) and General Material Data (MARA) tables for validating input values provided on the selection screen, ensuring that users enter valid sales document and material numbers.\n\n**Key Global Data Objects and Structures:**\n\n| Object Name       | Type                     | Description                                            | Associated DDIC Object(s) / Inferred Structure |\n| :---------------- | :----------------------- | :----------------------------------------------------- | :--------------------------------------------- |\n| `VBAK`            | `TABLES` (Work Area)     | Sales Document: Header Data (Implicit declaration)     | `VBAK` (Database Table)                        |\n| `VBAP`            | `TABLES` (Work Area)     | Sales Document: Item Data (Implicit declaration)       | `VBAP` (Database Table)                        |\n| `MARA`            | `TABLES` (Work Area)     | General Material Data (Implicit declaration)           | `MARA` (Database Table)                        |\n| `gt_sales_data`   | `TABLE OF ty_sales`      | Internal table to store retrieved and sorted sales item data. | Inferred structure `ty_sales` (see below)      |\n| `gs_sales_data`   | `ty_sales`               | Work area for processing individual records from `gt_sales_data`. | Inferred structure `ty_sales` (see below)      |\n| `gt_fieldcat`     | `LVC_T_FCAT`             | Internal table for ALV field catalog.                  | `LVC_S_FCAT` (Structure for ALV field catalog) |\n\n**Inferred Structure `ty_sales`:**\nThe structure `ty_sales` will be explicitly defined or implicitly determined by the `SELECT` statement and will contain the following components:\n\n| Component Name | Description                 | DDIC Reference (from VBAP/VBAK) | Data Element |\n| :------------- | :-------------------------- | :------------------------------ | :----------- |\n| `VBELN`        | Sales Document Number       | `VBAP-VBELN` / `VBAK-VBELN`     | `VBELN_VA`   |\n| `POSNR`        | Sales Document Item Number  | `VBAP-POSNR`                    | `POSNR`      |\n| `MATNR`        | Material Number             | `VBAP-MATNR`                    | `MATNR`      |\n| `NETWR`        | Net Value of the Sales Item | `VBAP-NETWR`                    | `NETWR_AP`   |\n| `WAERK`        | Document Currency           | `VBAK-WAERK`                    | `WAERK`      |\n| `KWMENG`       | Sales Quantity              | `VBAP-KWMENG`                   | `KWMENG`     |\n| `VRKME`        | Sales Unit                  | `VBAP-VRKME`                    | `VRKME`      |\n\n### Output Details\n\n*   **Display Method:** The final output is presented as an **interactive ALV grid report** using standard ALV function modules (e.g., `REUSE_ALV_GRID_DISPLAY` or `CL_SALV_TABLE`).\n*   **Output Structure and Fields:**\n    *   Each row in the ALV output corresponds to a single sales document item record from the `gt_sales_data` internal table.\n    *   **Column Headers:** Clear, user-friendly column headers will be defined in the ALV field catalog (e.g., \"Sales Document\", \"Item No.\", \"Material\", \"Net Value\", \"Currency\", \"Quantity\", \"Unit of Measure\").\n    *   **Field Mapping and Formatting:**\n        *   `VBELN`: Sales Document Number\n        *   `POSNR`: Sales Document Item Number\n        *   `MATNR`: Material Number\n        *   `NETWR`: Net Value (formatted as currency with 2 decimal places, linked to `WAERK` for currency symbol/precision).\n        *   `WAERK`: Currency Unit (displayed alongside `NETWR`).\n        *   `KWMENG`: Sales Quantity (formatted based on unit of measure).\n        *   `VRKME`: Sales Unit (displayed alongside `KWMENG`).\n    *   **ALV Functionality:** Users will have access to standard ALV features such as sorting, filtering, aggregation (if enabled for numeric fields), layout saving, and export to various formats (e.g., Excel).\n\n## 4. Error Handling\n*   **Invalid Input:** Standard SAP input validation will be active for `S_VBELN` (against `VBAK`) and `S_MATNR` (against `MARA`). Standard SAP error messages will be displayed for invalid entries on the selection screen. The `P_TOP` parameter will ensure a positive integer.\n*   **No Data Found:** If no data matches the selection criteria, the ALV will display a message indicating that no records were found (e.g., \"No sales order item data found for the specified criteria.\").\n*   **System Errors:** Standard ABAP runtime errors will be handled by the system. Robust error handling (e.g., `TRY...CATCH` blocks for critical operations) should be implemented to ensure graceful termination and provide informative messages to the user and technical logs.\n\n## 5. Level 0 Test Requirements\nThe following basic test scenarios should be performed:\n*   Execute the report with no selection criteria (expecting default \"Top 100\" records sorted by Net Value Descending, then Sales Doc Ascending, then Item Ascending).\n*   Test with specific Sales Document Number(s) and Material Number(s) to ensure accurate filtering.\n*   Test with a 'Top N Rows' limit (e.g., 10, 50, 1000) to confirm only the specified number of records are displayed and the sorting logic for 'Top N' is correctly applied (Net Value Descending, then Sales Doc Ascending, then Item Ascending).\n*   Test scenarios where no data is found for the given criteria.\n*   Verify all new output fields (Currency Unit, Quantity, Unit of Measure) are displayed correctly.\n*   Confirm ALV functionalities (sorting, filtering, export, layout saving) are working as expected.\n*   Test input validation for Sales Document Number and Material Number with invalid/non-existent entries.\n\n## 6. Additional Information\n*   This report is intended for quick analysis and focused review of sales item details. It does not include advanced features like drill-down into related documents (beyond standard ALV double-click capabilities), complex aggregations, or specific business analytics functions beyond what ALV offers.\n*   Future enhancements could include additional filtering options, output fields, or integration with analytical tools as business needs evolve.\n\n## 7. Acronyms, Abbreviations, and Terms\n\n*   **ABAP:** Advanced Business Application Programming (SAP's proprietary programming language)\n*   **ALV:** SAP List Viewer (standard SAP component for displaying interactive lists)\n*   **FSD:** Functional Specification Document\n*   **MATNR:** Material Number (Unique identifier for a product or service)\n*   **NETWR:** Net Value (The value of a sales document item excluding taxes, discounts, etc.)\n*   **POSNR:** Sales Document Item Number (Unique line item number within a sales document)\n*   **SAP:** Systems, Applications & Products in Data Processing (ERP software)\n*   **TSD:** Technical Specification Document\n*   **UoM:** Unit of Measure\n*   **VBAK:** Sales Document Header Data (SAP table)\n*   **VBAP:** Sales Document Item Data (SAP table)\n*   **VBELN:** Sales Document Number (Unique identifier for a sales order or other sales document)\n*   **WAERK:** SD Document Currency (Currency key for sales documents)\n\n## 8. References\n*   Functional Specification Document for Z_MCCAIN_SALES_ANALYSIS\n*   SAP ALV Documentation\n*   SAP ABAP Programming Guidelines\n\n## 9. Document Attributes\n\n*   **Document Name:** Technical Specification for Z_MCCAIN_SALES_ANALYSIS\n*   **Version:** 1.1\n*   **Date:** 2023-10-27\n*   **Author:** Manager Agent / Technical Documentation Specialist\n*   **Status:** Final"
          },
          "metadata": {},
          "execution_count": 13
        }
      ]
    },
    {
      "cell_type": "code",
      "source": [],
      "metadata": {
        "id": "vNDsYzhRZRSQ"
      },
      "execution_count": null,
      "outputs": []
    }
  ]
}