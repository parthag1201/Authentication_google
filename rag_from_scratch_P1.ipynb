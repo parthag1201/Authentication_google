{
  "nbformat": 4,
  "nbformat_minor": 0,
  "metadata": {
    "colab": {
      "provenance": [],
      "authorship_tag": "ABX9TyNOIgmCTkwoIkZ7dQMZieeI",
      "include_colab_link": true
    },
    "kernelspec": {
      "name": "python3",
      "display_name": "Python 3"
    },
    "language_info": {
      "name": "python"
    }
  },
  "cells": [
    {
      "cell_type": "markdown",
      "metadata": {
        "id": "view-in-github",
        "colab_type": "text"
      },
      "source": [
        "<a href=\"https://colab.research.google.com/github/parthag1201/Authentication_google/blob/main/rag_from_scratch_P1.ipynb\" target=\"_parent\"><img src=\"https://colab.research.google.com/assets/colab-badge.svg\" alt=\"Open In Colab\"/></a>"
      ]
    },
    {
      "cell_type": "markdown",
      "source": [
        "## Implementing RAG Pipeline using langchain , langsmith for monitoring dashboard and Google Gemini API"
      ],
      "metadata": {
        "id": "c2NdCg7iZnHh"
      }
    },
    {
      "cell_type": "code",
      "execution_count": null,
      "metadata": {
        "collapsed": true,
        "id": "mmdkNGj7e0Or"
      },
      "outputs": [],
      "source": [
        "# (1) Install required packages (if missing)\n",
        "! pip install google-generativeai langchain_google_genai chromadb langchain\n",
        "! pip install langchain_community tiktoken langchain-openai langchainhub\n"
      ]
    },
    {
      "cell_type": "code",
      "source": [
        "# (2) Import Gemini components\n",
        "import google.generativeai as genai\n",
        "from langchain_google_genai import ChatGoogleGenerativeAI, GoogleGenerativeAIEmbeddings\n"
      ],
      "metadata": {
        "id": "fcXvieWtfK8N"
      },
      "execution_count": 2,
      "outputs": []
    },
    {
      "cell_type": "code",
      "source": [
        "from google.colab import userdata # For API Secret"
      ],
      "metadata": {
        "id": "xZBiJ1BeahS0"
      },
      "execution_count": 3,
      "outputs": []
    },
    {
      "cell_type": "code",
      "source": [
        "# LangSmith Configuration\n",
        "import os\n",
        "from langsmith import traceable   ## To use @traceable on llm calls\n",
        "os.environ['LANGCHAIN_TRACING_V2'] = 'true'\n",
        "os.environ['LANGCHAIN_ENDPOINT'] = 'https://api.smith.langchain.com'\n",
        "os.environ['LANGCHAIN_API_KEY'] = userdata.get('LANGCHAIN_API_KEY')\n",
        "# LANGCHAIN_API_KEY = userdata.get('LANGCHAIN_API_KEY')\n",
        "os.environ['LANGSMITH_PROJECT']='Rag-from-scratch_P1'"
      ],
      "metadata": {
        "id": "HNMGVijZf-37"
      },
      "execution_count": 24,
      "outputs": []
    },
    {
      "cell_type": "code",
      "source": [
        "from langsmith import utils\n",
        "utils.tracing_is_enabled()\n"
      ],
      "metadata": {
        "colab": {
          "base_uri": "https://localhost:8080/"
        },
        "id": "y4dcgTjUupZV",
        "outputId": "f513d9fc-b51b-4ef9-bf5c-bcea825d51cf"
      },
      "execution_count": 25,
      "outputs": [
        {
          "output_type": "execute_result",
          "data": {
            "text/plain": [
              "True"
            ]
          },
          "metadata": {},
          "execution_count": 25
        }
      ]
    },
    {
      "cell_type": "code",
      "source": [
        "# LangChain Libraries\n",
        "import bs4\n",
        "from langchain import hub\n",
        "from langchain.text_splitter import RecursiveCharacterTextSplitter\n",
        "from langchain_community.document_loaders import WebBaseLoader\n",
        "from langchain_community.vectorstores import Chroma\n",
        "from langchain_core.output_parsers import StrOutputParser\n",
        "from langchain_core.runnables import RunnablePassthrough\n",
        "from langchain_openai import ChatOpenAI, OpenAIEmbeddings"
      ],
      "metadata": {
        "collapsed": true,
        "id": "Y3quG0FYfsR0"
      },
      "execution_count": 26,
      "outputs": []
    },
    {
      "cell_type": "code",
      "source": [
        "from google.colab import auth\n",
        "auth.authenticate_user()"
      ],
      "metadata": {
        "id": "x_U-yZrZhecY"
      },
      "execution_count": 27,
      "outputs": []
    },
    {
      "cell_type": "code",
      "source": [
        "# (3) Configure API keys\n",
        "import os\n",
        "os.environ['GOOGLE_API_KEY']=userdata.get('Gemini_API')\n",
        "# GOOGLE_API_KEY = userdata.get('Gemini_API')  # Replace with actual key\n",
        "\n",
        "# (4) Initialize Gemini components\n",
        "embeddings = GoogleGenerativeAIEmbeddings(model=\"models/embedding-001\")\n",
        "llm = ChatGoogleGenerativeAI(model=\"gemini-2.0-flash\", temperature=0)\n",
        "\n",
        "# Load Documents\n",
        "loader = WebBaseLoader(\n",
        "    web_paths=(\"https://lilianweng.github.io/posts/2023-06-23-agent/\",),\n",
        "    bs_kwargs=dict(\n",
        "        parse_only=bs4.SoupStrainer(\n",
        "            class_=(\"post-content\", \"post-title\", \"post-header\")\n",
        "        )\n",
        "    ),\n",
        ")\n",
        "docs = loader.load()"
      ],
      "metadata": {
        "id": "Vg5bKAsqfb-f",
        "collapsed": true
      },
      "execution_count": 28,
      "outputs": []
    },
    {
      "cell_type": "code",
      "source": [
        "print(docs)"
      ],
      "metadata": {
        "id": "wb_cn1_xtD_T"
      },
      "execution_count": null,
      "outputs": []
    },
    {
      "cell_type": "code",
      "source": [
        "# Split\n",
        "text_splitter = RecursiveCharacterTextSplitter(chunk_size=1000, chunk_overlap=200)\n",
        "splits = text_splitter.split_documents(docs)\n",
        "\n",
        "print(splits)"
      ],
      "metadata": {
        "id": "cDW5aubWnjdc"
      },
      "execution_count": null,
      "outputs": []
    },
    {
      "cell_type": "code",
      "source": [
        "# Rest of the code remains same until vectorstore initialization\n",
        "vectorstore = Chroma.from_documents(\n",
        "    documents=splits,\n",
        "    embedding=embeddings,  # Using Gemini embeddings\n",
        "    # persist_directory=\"./chrome_db\"\n",
        ")\n",
        "\n",
        "retriever = vectorstore.as_retriever()"
      ],
      "metadata": {
        "collapsed": true,
        "id": "xuICX9mWnvsw"
      },
      "execution_count": 31,
      "outputs": []
    },
    {
      "cell_type": "code",
      "source": [
        "from langchain.prompts import ChatPromptTemplate, PromptTemplate  # Import from correct submodule\n",
        "from langchain import LLMChain"
      ],
      "metadata": {
        "collapsed": true,
        "id": "tThqlt0tgq1f"
      },
      "execution_count": 34,
      "outputs": []
    },
    {
      "cell_type": "code",
      "source": [
        "# (5) Update prompt template for Gemini compatibility\n",
        "prompt_template = \"\"\"Answer the question based only on the context:\n",
        "Context: {context}\n",
        "\n",
        "Question: {question}\n",
        "\"\"\"\n",
        "prompt = ChatPromptTemplate.from_template(prompt_template)\n",
        "def format_docs(docs):\n",
        "    return \"\\n\\n\".join(doc.page_content for doc in docs)\n",
        "\n",
        "# (6) Create RAG chain with Gemini\n",
        "# traceable\n",
        "# def rag(context,question,prompt,llm):\n",
        "#   rag_chain = (\n",
        "#     {\"context\": retriever | format_docs, \"question\": RunnablePassthrough()}\n",
        "#     | prompt\n",
        "#     | llm\n",
        "#     | StrOutputParser()\n",
        "#   )\n",
        "\n",
        "# # Query execution remains same\n",
        "#   rag_chain.invoke(\"What is a Task?\")"
      ],
      "metadata": {
        "id": "84d43DGHfjsF"
      },
      "execution_count": 33,
      "outputs": []
    },
    {
      "cell_type": "code",
      "source": [
        "rag_chain = (\n",
        "    {\"context\": retriever | format_docs, \"question\": RunnablePassthrough()}\n",
        "    | prompt\n",
        "    | llm\n",
        "    | StrOutputParser()\n",
        "  )\n",
        "\n",
        "rag_chain.invoke(\"What is a Task?\")"
      ],
      "metadata": {
        "id": "uxG3y3iwcmb7"
      },
      "execution_count": null,
      "outputs": []
    }
  ]
}